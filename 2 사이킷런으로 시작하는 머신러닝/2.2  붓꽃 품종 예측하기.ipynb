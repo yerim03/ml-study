{
 "cells": [
  {
   "cell_type": "markdown",
   "id": "ec4503c4",
   "metadata": {},
   "source": [
    "# 붓꽃 데이터 품종 예측하기\n",
    "### 붓꽃 데이터 세트\n",
    "+  피처\n",
    "    + sepal length\n",
    "    + sepal width\n",
    "    + petal length\n",
    "    + petal width\n",
    "+ 레이블(결정값)\n",
    "    + Setosa: 0\n",
    "    + versicolor: 1\n",
    "    + virginica : 2"
   ]
  },
  {
   "cell_type": "code",
   "execution_count": 4,
   "id": "a82e6f6c",
   "metadata": {},
   "outputs": [],
   "source": [
    "from sklearn.datasets import load_iris\n",
    "from sklearn.model_selection import train_test_split"
   ]
  },
  {
   "cell_type": "code",
   "execution_count": 8,
   "id": "9d6b8424",
   "metadata": {},
   "outputs": [
    {
     "name": "stdout",
     "output_type": "stream",
     "text": [
      "iris target 값 :  [0 0 0 0 0 0 0 0 0 0 0 0 0 0 0 0 0 0 0 0 0 0 0 0 0 0 0 0 0 0 0 0 0 0 0 0 0\n",
      " 0 0 0 0 0 0 0 0 0 0 0 0 0 1 1 1 1 1 1 1 1 1 1 1 1 1 1 1 1 1 1 1 1 1 1 1 1\n",
      " 1 1 1 1 1 1 1 1 1 1 1 1 1 1 1 1 1 1 1 1 1 1 1 1 1 1 2 2 2 2 2 2 2 2 2 2 2\n",
      " 2 2 2 2 2 2 2 2 2 2 2 2 2 2 2 2 2 2 2 2 2 2 2 2 2 2 2 2 2 2 2 2 2 2 2 2 2\n",
      " 2 2]\n",
      "iris target 명 :  ['setosa' 'versicolor' 'virginica']\n",
      "iris feature 종류 :  ['sepal length (cm)', 'sepal width (cm)', 'petal length (cm)', 'petal width (cm)']\n"
     ]
    }
   ],
   "source": [
    "import pandas as pd\n",
    "\n",
    "iris = load_iris()\n",
    "\n",
    "iris_data = iris.data\n",
    "iris_label = iris.target\n",
    "\n",
    "print(\"iris target 값 : \", iris_label)\n",
    "print(\"iris target 명 : \", iris.target_names)\n",
    "print(\"iris feature 종류 : \", iris.feature_names)"
   ]
  },
  {
   "cell_type": "code",
   "execution_count": 11,
   "id": "8b7d8312",
   "metadata": {},
   "outputs": [
    {
     "data": {
      "text/html": [
       "<div>\n",
       "<style scoped>\n",
       "    .dataframe tbody tr th:only-of-type {\n",
       "        vertical-align: middle;\n",
       "    }\n",
       "\n",
       "    .dataframe tbody tr th {\n",
       "        vertical-align: top;\n",
       "    }\n",
       "\n",
       "    .dataframe thead th {\n",
       "        text-align: right;\n",
       "    }\n",
       "</style>\n",
       "<table border=\"1\" class=\"dataframe\">\n",
       "  <thead>\n",
       "    <tr style=\"text-align: right;\">\n",
       "      <th></th>\n",
       "      <th>sepal length (cm)</th>\n",
       "      <th>sepal width (cm)</th>\n",
       "      <th>petal length (cm)</th>\n",
       "      <th>petal width (cm)</th>\n",
       "      <th>lablel</th>\n",
       "    </tr>\n",
       "  </thead>\n",
       "  <tbody>\n",
       "    <tr>\n",
       "      <th>0</th>\n",
       "      <td>5.1</td>\n",
       "      <td>3.5</td>\n",
       "      <td>1.4</td>\n",
       "      <td>0.2</td>\n",
       "      <td>0</td>\n",
       "    </tr>\n",
       "    <tr>\n",
       "      <th>1</th>\n",
       "      <td>4.9</td>\n",
       "      <td>3.0</td>\n",
       "      <td>1.4</td>\n",
       "      <td>0.2</td>\n",
       "      <td>0</td>\n",
       "    </tr>\n",
       "    <tr>\n",
       "      <th>2</th>\n",
       "      <td>4.7</td>\n",
       "      <td>3.2</td>\n",
       "      <td>1.3</td>\n",
       "      <td>0.2</td>\n",
       "      <td>0</td>\n",
       "    </tr>\n",
       "    <tr>\n",
       "      <th>3</th>\n",
       "      <td>4.6</td>\n",
       "      <td>3.1</td>\n",
       "      <td>1.5</td>\n",
       "      <td>0.2</td>\n",
       "      <td>0</td>\n",
       "    </tr>\n",
       "    <tr>\n",
       "      <th>4</th>\n",
       "      <td>5.0</td>\n",
       "      <td>3.6</td>\n",
       "      <td>1.4</td>\n",
       "      <td>0.2</td>\n",
       "      <td>0</td>\n",
       "    </tr>\n",
       "  </tbody>\n",
       "</table>\n",
       "</div>"
      ],
      "text/plain": [
       "   sepal length (cm)  sepal width (cm)  petal length (cm)  petal width (cm)  \\\n",
       "0                5.1               3.5                1.4               0.2   \n",
       "1                4.9               3.0                1.4               0.2   \n",
       "2                4.7               3.2                1.3               0.2   \n",
       "3                4.6               3.1                1.5               0.2   \n",
       "4                5.0               3.6                1.4               0.2   \n",
       "\n",
       "   lablel  \n",
       "0       0  \n",
       "1       0  \n",
       "2       0  \n",
       "3       0  \n",
       "4       0  "
      ]
     },
     "execution_count": 11,
     "metadata": {},
     "output_type": "execute_result"
    }
   ],
   "source": [
    "# DataFrame으로 변환\n",
    "iris_df = pd.DataFrame(data=iris.data, columns = iris.feature_names)\n",
    "\n",
    "# iris_df에 'label' 칼럼으로 iris.target값 추가\n",
    "iris_df['lablel'] = iris.target\n",
    "iris_df.head(5)"
   ]
  },
  {
   "cell_type": "code",
   "execution_count": 14,
   "id": "01b6b0ba",
   "metadata": {},
   "outputs": [],
   "source": [
    "# train_test_split()을 사용하여 학습용/테스트용 데이터 분리\n",
    "X_train, X_test, y_train, y_test = train_test_split(iris_data, iris_label, test_size=0.2, random_state=11)"
   ]
  },
  {
   "cell_type": "markdown",
   "id": "aaae4e05",
   "metadata": {},
   "source": [
    "### train_test_split()\n",
    " 학습용 데이터와 테스트용 데이터를 분리  \n",
    " <span style=\"font-weight:bold\">X_train, X_test, y_train, y_test</span> = train_test_split(<span style=\"font-weight:bold\">x_data set(feature), y_data set(label), test_size, random_state</span>)  \n",
    " + test_size : 학습데이터와 테스트 데이터의 비율(ex. test_size=0.2이면 테스트데이터 20%, 학습 데이터 80%)  \n",
    " + random_state : 호출할 때마다 같은 학습/데이터 데이터 세트를 생성하기 위한 난수 발생 값\n",
    " <br><br>\n",
    " + <span style=\"font-weight:bold\">X_train</span> : 학습용 데이터의 피처 데이터 세트  \n",
    " + <span style=\"font-weight:bold\">X_test</span> : 테스트용 데이터의 피처 데이터 세트  \n",
    " + <span style=\"font-weight:bold\">y_train</span> : 학습용 데이터의 레이블 데이터 세트  \n",
    " + <span style=\"font-weight:bold\">y_test</span> : 테스트용 데이터의 레이블 데이터 세트  "
   ]
  },
  {
   "cell_type": "code",
   "execution_count": 15,
   "id": "f2ecb2cc",
   "metadata": {},
   "outputs": [
    {
     "name": "stdout",
     "output_type": "stream",
     "text": [
      "예측 정확도 : 0.9333\n"
     ]
    }
   ],
   "source": [
    "from sklearn.tree import DecisionTreeClassifier\n",
    "\n",
    "dt_clf = DecisionTreeClassifier(random_state=11)\n",
    "\n",
    "# 학습 수행\n",
    "dt_clf.fit(X_train, y_train)\n",
    "\n",
    "#학습된 test data set로 예측 수행\n",
    "pred = dt_clf.predict(X_test)\n",
    "\n",
    "# 정확도 출력\n",
    "# accuracy_score 함수 사용\n",
    "from sklearn.metrics import accuracy_score\n",
    "print('예측 정확도 : {0:.4f}' .format(accuracy_score(y_test, pred)))"
   ]
  }
 ],
 "metadata": {
  "kernelspec": {
   "display_name": "Python 3 (ipykernel)",
   "language": "python",
   "name": "python3"
  },
  "language_info": {
   "codemirror_mode": {
    "name": "ipython",
    "version": 3
   },
   "file_extension": ".py",
   "mimetype": "text/x-python",
   "name": "python",
   "nbconvert_exporter": "python",
   "pygments_lexer": "ipython3",
   "version": "3.9.7"
  }
 },
 "nbformat": 4,
 "nbformat_minor": 5
}
