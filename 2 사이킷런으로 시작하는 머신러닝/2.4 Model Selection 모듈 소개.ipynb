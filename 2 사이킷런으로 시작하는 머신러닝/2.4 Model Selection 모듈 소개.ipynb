{
 "cells": [
  {
   "cell_type": "markdown",
   "id": "dc14a506",
   "metadata": {},
   "source": [
    "# Model Selection 모듈\n",
    "붗꽃 데이터 세트 사용"
   ]
  },
  {
   "cell_type": "markdown",
   "id": "582a3a75",
   "metadata": {},
   "source": [
    "## 1. train_test_split()\n",
    " 학습용 데이터와 테스트용 데이터를 분리  \n",
    " \n",
    " <span style=\"font-size:18px\"><span style=\"font-weight:bold\">X_train, X_test, y_train, y_test</span> = train_test_split(<span style=\"font-weight:bold\">x_data set(feature), y_data set(label), test_size, random_state</span>)</span>\n",
    " + test_size : 전체 데이터에서 테스트 데이터 크기의 비율(ex. test_size=0.2이면 테스트데이터 20%, 학습 데이터 80%)  \n",
    " + random_state : 호출할 때마다 같은 학습/데이터 데이터 세트를 생성하기 위한 난수 발생 값\n",
    " <br><br>\n",
    " + <span style=\"font-weight:bold\">X_train</span> : 학습용 데이터의 피처 데이터 세트  \n",
    " + <span style=\"font-weight:bold\">X_test</span> : 테스트용 데이터의 피처 데이터 세트  \n",
    " + <span style=\"font-weight:bold\">y_train</span> : 학습용 데이터의 레이블 데이터 세트  \n",
    " + <span style=\"font-weight:bold\">y_test</span> : 테스트용 데이터의 레이블 데이터 세트  "
   ]
  },
  {
   "cell_type": "code",
   "execution_count": 1,
   "id": "c3504c4e",
   "metadata": {},
   "outputs": [
    {
     "name": "stdout",
     "output_type": "stream",
     "text": [
      "예측 정확도 : 0.9556\n"
     ]
    }
   ],
   "source": [
    "from sklearn.tree import DecisionTreeClassifier\n",
    "from sklearn.datasets import load_iris\n",
    "from sklearn.model_selection import train_test_split\n",
    "from sklearn.metrics import accuracy_score\n",
    "\n",
    "dt_clf = DecisionTreeClassifier()\n",
    "iris = load_iris()\n",
    "\n",
    "# 학습데이터와 테스트데이터 분리\n",
    "X_train, X_test, y_train, y_test = train_test_split(iris.data, iris.target, test_size=0.3, random_state=121)\n",
    "\n",
    "#모델 학습 및 예측\n",
    "dt_clf.fit(X_train, y_train)\n",
    "pred = dt_clf.predict(X_test)\n",
    "print('예측 정확도 : {0:.4f}' .format(accuracy_score(y_test, pred)))"
   ]
  },
  {
   "cell_type": "markdown",
   "id": "e1c5b16a",
   "metadata": {},
   "source": [
    "## 2. 교차검증\n",
    " + 별도의 여러 세트로 구성된 학습 데이터 세트와 검증 데이터 세트에서 학습 및 평가를 수행하는 것  \n",
    " + 과적합(overfitting) 문제 해결\n",
    " \n",
    "### K 폴드 교차 검증\n",
    "  + 가장 보편적으로 사용되는 교차 검증 기법\n",
    "  + K 개의 데이터 폴드 세트를 만든 후, K번만큼 각 폴드 세트에 학습, 검증평가를 반복적으로 수행하는 방법\n",
    "  + 사이킷런에서 <span style=\"font-weight:bold\">KFold</span> 와 <span style=\"font-weight:bold\">StratifiedKFold</span> 클래스 제공"
   ]
  },
  {
   "cell_type": "markdown",
   "id": "2e9489ec",
   "metadata": {},
   "source": [
    "### KFold 교차 검증\n",
    "---"
   ]
  },
  {
   "cell_type": "code",
   "execution_count": 2,
   "id": "fec6a5d0",
   "metadata": {},
   "outputs": [
    {
     "name": "stdout",
     "output_type": "stream",
     "text": [
      "\n",
      "#1 교차 검증 정확도 : 1.0, 학습 데이터 크기 : 120, 검증 데이터 크기 : 30\n",
      "#1 검증 세트 인덱스 : [ 0  1  2  3  4  5  6  7  8  9 10 11 12 13 14 15 16 17 18 19 20 21 22 23\n",
      " 24 25 26 27 28 29]\n",
      "\n",
      "#2 교차 검증 정확도 : 0.9667, 학습 데이터 크기 : 120, 검증 데이터 크기 : 30\n",
      "#2 검증 세트 인덱스 : [30 31 32 33 34 35 36 37 38 39 40 41 42 43 44 45 46 47 48 49 50 51 52 53\n",
      " 54 55 56 57 58 59]\n",
      "\n",
      "#3 교차 검증 정확도 : 0.8667, 학습 데이터 크기 : 120, 검증 데이터 크기 : 30\n",
      "#3 검증 세트 인덱스 : [60 61 62 63 64 65 66 67 68 69 70 71 72 73 74 75 76 77 78 79 80 81 82 83\n",
      " 84 85 86 87 88 89]\n",
      "\n",
      "#4 교차 검증 정확도 : 0.9333, 학습 데이터 크기 : 120, 검증 데이터 크기 : 30\n",
      "#4 검증 세트 인덱스 : [ 90  91  92  93  94  95  96  97  98  99 100 101 102 103 104 105 106 107\n",
      " 108 109 110 111 112 113 114 115 116 117 118 119]\n",
      "\n",
      "#5 교차 검증 정확도 : 0.7333, 학습 데이터 크기 : 120, 검증 데이터 크기 : 30\n",
      "#5 검증 세트 인덱스 : [120 121 122 123 124 125 126 127 128 129 130 131 132 133 134 135 136 137\n",
      " 138 139 140 141 142 143 144 145 146 147 148 149]\n",
      "\n",
      "\n",
      "## 평균 검증 정확도 :  0.9\n"
     ]
    }
   ],
   "source": [
    "from sklearn.tree import DecisionTreeClassifier\n",
    "from sklearn.datasets import load_iris\n",
    "from sklearn.model_selection import train_test_split\n",
    "from sklearn.metrics import accuracy_score\n",
    "from sklearn.model_selection import KFold\n",
    "import numpy as np\n",
    "\n",
    "iris = load_iris()\n",
    "features = iris.data\n",
    "label = iris.target\n",
    "dt_clf = DecisionTreeClassifier(random_state=156)\n",
    "\n",
    "# 5개의 폴드 세트로 분리하는 KFold 객체 생성\n",
    "kfold = KFold(n_splits=5)\n",
    "\n",
    "# 폴드 세트별로 정확도를 담을 리스트 생성\n",
    "cv_accuracy = []\n",
    "\n",
    "#전체 데이터가 150개이므로, 학습용 데이터 세트는 120개(4/5), 검증 테스트 데이터 세트는 30개(1/5)\n",
    "#반복 횟수 측정를 측정하는 n_iteration\n",
    "n_iteration = 0\n",
    "\n",
    "# split()으로 폴드 별 학습용, 검증용 테스트의 인덱스를 array로 반환\n",
    "for train_index, test_index, in kfold.split(features):\n",
    "    # 학습용, 검증용 테스트의 피처 데이터 추출\n",
    "    X_train, X_test = features[train_index], features[test_index]\n",
    "    # 학습용, 검증용 테스트의 레이블 데이터 추출\n",
    "    y_train, y_test = label[train_index], label[test_index]\n",
    "    \n",
    "    #학습 및 예측\n",
    "    dt_clf.fit(X_train, y_train)\n",
    "    pred = dt_clf.predict(X_test)\n",
    "    n_iteration+=1\n",
    "    \n",
    "    #정확도 측정\n",
    "    accuracy = np.round(accuracy_score(y_test, pred), 4)\n",
    "    \n",
    "    # 각 폴드의 데이터 세트가 잘 분할됐는지 출력\n",
    "    train_size = X_train.shape[0]\n",
    "    test_size = X_test.shape[0]\n",
    "    print(\"\\n#{0} 교차 검증 정확도 : {1}, 학습 데이터 크기 : {2}, 검증 데이터 크기 : {3}\" .format(n_iteration, accuracy, train_size, test_size))\n",
    "    print(\"#{0} 검증 세트 인덱스 : {1}\" .format(n_iteration, test_index))\n",
    "    \n",
    "    #리스트에 각 폴드별 정확도 추가\n",
    "    cv_accuracy.append(accuracy)\n",
    "    \n",
    "\n",
    "#5개 폴드의 평균 정확도 계산\n",
    "print(\"\\n\\n## 평균 검증 정확도 : \", np.mean(cv_accuracy))"
   ]
  },
  {
   "cell_type": "markdown",
   "id": "a16209ab",
   "metadata": {},
   "source": [
    "### Stratified KFold 교차 검증\n",
    "---\n",
    "+ 불균형한 분포도를 가진 레이블 데이터 집합을 위한 K 폴드 방식\n",
    "+ 불균형한 분포도의 레이블 데이터 경우 학습/테스트 데이터를 제대로 분배하지 못함\n",
    "    1. 특정 레이블 값이 지나치게 많을 경우\n",
    "    2. 특정 레이블 값이 지나치게 적을 경우  \n",
    "    \n",
    "<span style=\"font-weight:bold\">--> Stratified KFold 로 해결</span>"
   ]
  },
  {
   "cell_type": "markdown",
   "id": "015520b9",
   "metadata": {},
   "source": [
    "---\n",
    "#### 불균형한 분포도를 가진 레이블 데이터 세트를 분할할 경우\n",
    "---\n",
    "--> 학습 데이터 레이블과 검증 데이터 레이블이 완전 다른 값으로 추출되어 예측 불가"
   ]
  },
  {
   "cell_type": "code",
   "execution_count": 3,
   "id": "b9c3e759",
   "metadata": {},
   "outputs": [
    {
     "name": "stdout",
     "output_type": "stream",
     "text": [
      "## 교차검증 : 1\n",
      "학습 레이블 데이터 분포 :\n",
      " 1    50\n",
      "2    50\n",
      "Name: label, dtype: int64\n",
      "검증 레이블 데이터 분포 :\n",
      " 0    50\n",
      "Name: label, dtype: int64\n",
      "\n",
      "\n",
      "\n",
      "## 교차검증 : 2\n",
      "학습 레이블 데이터 분포 :\n",
      " 0    50\n",
      "2    50\n",
      "Name: label, dtype: int64\n",
      "검증 레이블 데이터 분포 :\n",
      " 1    50\n",
      "Name: label, dtype: int64\n",
      "\n",
      "\n",
      "\n",
      "## 교차검증 : 3\n",
      "학습 레이블 데이터 분포 :\n",
      " 0    50\n",
      "1    50\n",
      "Name: label, dtype: int64\n",
      "검증 레이블 데이터 분포 :\n",
      " 2    50\n",
      "Name: label, dtype: int64\n",
      "\n",
      "\n",
      "\n"
     ]
    }
   ],
   "source": [
    "#붓꽃 데이터를 임의로 불균형한 분포도를 가지도록 생성함\n",
    "import pandas as pd\n",
    "iris_df = pd.DataFrame(data=iris.data, columns=iris.feature_names)\n",
    "iris_df['label'] = iris.target\n",
    "\n",
    "kfold = KFold(n_splits=3)\n",
    "n_iteration = 0\n",
    "\n",
    "for train_index, test_index, in kfold.split(iris_df):\n",
    "    n_iteration+=1\n",
    "    label_train = iris_df['label'].iloc[train_index]\n",
    "    label_test = iris_df['label'].iloc[test_index]\n",
    "    \n",
    "    print(\"## 교차검증 : {0}\" .format(n_iteration))\n",
    "    print(\"학습 레이블 데이터 분포 :\\n\", label_train.value_counts())\n",
    "    print(\"검증 레이블 데이터 분포 :\\n\", label_test.value_counts())\n",
    "    print(\"\\n\\n\")"
   ]
  },
  {
   "cell_type": "markdown",
   "id": "a2059e95",
   "metadata": {},
   "source": [
    "---\n",
    "####  StratifiedKFold 로 데이터 세트를 분할할 경우\n",
    "---\n",
    "--> 학습 데이터 레이블과 검증 데이터 레이블 값의 분포도가 동일하게 분할되었음  \n",
    "```\n",
    "for train_index, test_index, in skf.split(iris_df, iris_df['label']):\n",
    "```\n",
    "split() 메서드에 인자로 <span style=\"font-weight:bold\">레이블 데이터 세트 (iris_df['lable'])</span> 도 필요함"
   ]
  },
  {
   "cell_type": "code",
   "execution_count": 4,
   "id": "ee861e4d",
   "metadata": {},
   "outputs": [
    {
     "name": "stdout",
     "output_type": "stream",
     "text": [
      "## 교차검증 : 1\n",
      "학습 레이블 데이터 분포 :\n",
      " 2    34\n",
      "0    33\n",
      "1    33\n",
      "Name: label, dtype: int64\n",
      "검증 레이블 데이터 분포 :\n",
      " 0    17\n",
      "1    17\n",
      "2    16\n",
      "Name: label, dtype: int64\n",
      "\n",
      "\n",
      "\n",
      "## 교차검증 : 2\n",
      "학습 레이블 데이터 분포 :\n",
      " 1    34\n",
      "0    33\n",
      "2    33\n",
      "Name: label, dtype: int64\n",
      "검증 레이블 데이터 분포 :\n",
      " 0    17\n",
      "2    17\n",
      "1    16\n",
      "Name: label, dtype: int64\n",
      "\n",
      "\n",
      "\n",
      "## 교차검증 : 3\n",
      "학습 레이블 데이터 분포 :\n",
      " 0    34\n",
      "1    33\n",
      "2    33\n",
      "Name: label, dtype: int64\n",
      "검증 레이블 데이터 분포 :\n",
      " 1    17\n",
      "2    17\n",
      "0    16\n",
      "Name: label, dtype: int64\n",
      "\n",
      "\n",
      "\n"
     ]
    }
   ],
   "source": [
    "from sklearn.model_selection import StratifiedKFold\n",
    "\n",
    "# StratifiedKFold 객체 생성\n",
    "skf = StratifiedKFold(n_splits=3)\n",
    "n_iteration=0\n",
    "\n",
    "for train_index, test_index, in skf.split(iris_df, iris_df['label']):\n",
    "    n_iteration+=1\n",
    "    label_train = iris_df['label'].iloc[train_index]\n",
    "    label_test = iris_df['label'].iloc[test_index]\n",
    "    \n",
    "    print(\"## 교차검증 : {0}\" .format(n_iteration))\n",
    "    print(\"학습 레이블 데이터 분포 :\\n\", label_train.value_counts())\n",
    "    print(\"검증 레이블 데이터 분포 :\\n\", label_test.value_counts())\n",
    "    print(\"\\n\\n\")"
   ]
  },
  {
   "cell_type": "code",
   "execution_count": 5,
   "id": "67733490",
   "metadata": {},
   "outputs": [
    {
     "name": "stdout",
     "output_type": "stream",
     "text": [
      "\n",
      "#1 교차 검증 정확도 : 0.98, 학습 데이터 크기 : 100, 검증 데이터 크기 : 50\n",
      "#1 검증 세트 인덱스 : [  0   1   2   3   4   5   6   7   8   9  10  11  12  13  14  15  16  50\n",
      "  51  52  53  54  55  56  57  58  59  60  61  62  63  64  65  66 100 101\n",
      " 102 103 104 105 106 107 108 109 110 111 112 113 114 115]\n",
      "\n",
      "#2 교차 검증 정확도 : 0.94, 학습 데이터 크기 : 100, 검증 데이터 크기 : 50\n",
      "#2 검증 세트 인덱스 : [ 17  18  19  20  21  22  23  24  25  26  27  28  29  30  31  32  33  67\n",
      "  68  69  70  71  72  73  74  75  76  77  78  79  80  81  82 116 117 118\n",
      " 119 120 121 122 123 124 125 126 127 128 129 130 131 132]\n",
      "\n",
      "#3 교차 검증 정확도 : 0.98, 학습 데이터 크기 : 100, 검증 데이터 크기 : 50\n",
      "#3 검증 세트 인덱스 : [ 34  35  36  37  38  39  40  41  42  43  44  45  46  47  48  49  83  84\n",
      "  85  86  87  88  89  90  91  92  93  94  95  96  97  98  99 133 134 135\n",
      " 136 137 138 139 140 141 142 143 144 145 146 147 148 149]\n",
      "\n",
      "\n",
      "## 교차 검증별 정확도 :  [0.98 0.94 0.98]\n",
      "## 평균 검증 정확도 :  0.9666666666666667\n"
     ]
    }
   ],
   "source": [
    "dt_clf = DecisionTreeClassifier(random_state=156)\n",
    "\n",
    "# 3개의 폴드 세트로 분리하는 StratifiedKFold 객체 생성\n",
    "skfold = StratifiedKFold(n_splits=3)\n",
    "\n",
    "# 폴드 세트별로 정확도를 담을 리스트 생성\n",
    "cv_accuracy = []\n",
    "\n",
    "#전체 데이터가 150개이므로, 학습용 데이터 세트는 120개(4/5), 검증 테스트 데이터 세트는 30개(1/5)\n",
    "#반복 횟수 측정를 측정하는 n_iteration\n",
    "n_iteration = 0\n",
    "\n",
    "\n",
    "# split()으로 폴드 별 학습용, 검증용 테스트의 인덱스를 array로 반환\n",
    "# 이 때, 레이블 데이터 세트도 반드시 추가 입력해야함\n",
    "for train_index, test_index, in skfold.split(features, label):\n",
    "    # 학습용, 검증용 테스트의 피처 데이터 추출\n",
    "    X_train, X_test = features[train_index], features[test_index]\n",
    "    # 학습용, 검증용 테스트의 레이블 데이터 추출\n",
    "    y_train, y_test = label[train_index], label[test_index]\n",
    "    \n",
    "    #학습 및 예측\n",
    "    dt_clf.fit(X_train, y_train)\n",
    "    pred = dt_clf.predict(X_test)\n",
    "    n_iteration+=1\n",
    "    \n",
    "    #정확도 측정\n",
    "    accuracy = np.round(accuracy_score(y_test, pred), 4)\n",
    "    \n",
    "    # 각 폴드의 데이터 세트가 잘 분할됐는지 출력\n",
    "    train_size = X_train.shape[0]\n",
    "    test_size = X_test.shape[0]\n",
    "    print(\"\\n#{0} 교차 검증 정확도 : {1}, 학습 데이터 크기 : {2}, 검증 데이터 크기 : {3}\" .format(n_iteration, accuracy, train_size, test_size))\n",
    "    print(\"#{0} 검증 세트 인덱스 : {1}\" .format(n_iteration, test_index))\n",
    "    \n",
    "    #리스트에 각 폴드별 정확도 추가\n",
    "    cv_accuracy.append(accuracy)\n",
    "    \n",
    "\n",
    "#교차 검증별 정확도 및 평균 정확도 계산\n",
    "print(\"\\n\\n## 교차 검증별 정확도 : \", np.round(cv_accuracy, 4))\n",
    "print(\"## 평균 검증 정확도 : \", np.mean(cv_accuracy))"
   ]
  },
  {
   "cell_type": "markdown",
   "id": "0f64c37d",
   "metadata": {},
   "source": [
    "## corss_val_score()\n",
    "---\n",
    " 사이킷런에서 제공하는 교차 검증을 편리하게 수행할 수 있는 API  \n",
    "\n",
    "<span style=\"font-size:18px\">corss_val_score(<span style=\"font-weight:bold\">estimator, X, y, scoring, cv</span>)</span>\n",
    "+ <span style=\"font-weight:bold\">estimator</span> : 사이킷런의 Classifier(분류 알고리즘 클래스) or Regressor(회귀 알고리즘 클래스)\n",
    "+ <span style=\"font-weight:bold\">X</span> : 피처 데이터 세트\n",
    "+ <span style=\"font-weight:bold\">y</span> : 레이블 데이터 세트\n",
    "+ <span style=\"font-weight:bold\">scoring</span> : 예측 성능 평가 지표.  scoring으로 지정된 성능 지표 측정값을 배열 형태로 반환\n",
    "+ <span style=\"font-weight:bold\">cv</span> : 교차 검증 폴드 수"
   ]
  },
  {
   "cell_type": "code",
   "execution_count": 6,
   "id": "581e8169",
   "metadata": {},
   "outputs": [
    {
     "name": "stdout",
     "output_type": "stream",
     "text": [
      "교차 검증별 정확도 [0.98 0.94 0.98]\n",
      "평균 검증 정확도 0.9667\n"
     ]
    }
   ],
   "source": [
    "from sklearn.tree import DecisionTreeClassifier\n",
    "from sklearn.datasets import load_iris\n",
    "from sklearn.model_selection import cross_val_score, cross_validate\n",
    "\n",
    "iris = load_iris()\n",
    "\n",
    "dt_clf = DecisionTreeClassifier(random_state=156)\n",
    "data = iris.data\n",
    "label = iris.target\n",
    "\n",
    "# 성능 지표(scoring)는 정확도(accuracy), 교차 검증 세트는 3개\n",
    "scores = cross_val_score(dt_clf, data, label, scoring='accuracy', cv=3)\n",
    "print(\"교차 검증별 정확도\", np.round(scores, 4))\n",
    "print(\"평균 검증 정확도\", np.round(np.mean(scores), 4))"
   ]
  },
  {
   "cell_type": "markdown",
   "id": "826bd57d",
   "metadata": {},
   "source": [
    "## GridSearchCV\n",
    "---\n",
    " 교차 검증을 기반으로 하이퍼 파라미터의 최적 값을 찾을 수 있는 방식  \n",
    " 몇 개의 하이퍼 파라미터를 입력하고, 교차 검증을 통해서 최적의 하이퍼 파라미터를 찾는다.\n",
    " <br><br>\n",
    " <span style=\"font-size:18px\">GridSearchCV(<span style=\"font-weight:bold\">estimator, param_grid, scoring, cv, refit</span>)</span>\n",
    " + <span style=\"font-weight:bold\">estimator</span> : Classifier, Regressor, Pipeline 사용\n",
    " + <span style=\"font-weight:bold\">param_grid</span> : key + 리스트 값을 가지는 딕셔너리. estimator 튜닝을 위해 파라미터명과 사용될 여러 파라미터 값을 지정함\n",
    " + <span style=\"font-weight:bold\">scoring</span> : 예측 성능 평가 지표\n",
    " + <span style=\"font-weight:bold\">cv</span> : 교차 검증 폴드 수\n",
    " + <span style=\"font-weight:bold\">refit</span> : 디폴트 True. Ture일 때, 가장 최적의 하이퍼 파라미터를 찾은 뒤 입력된 estimator 객체를 해당 하이퍼 파라미터로 재학습시킴\n",
    " "
   ]
  },
  {
   "cell_type": "code",
   "execution_count": 7,
   "id": "2e322d73",
   "metadata": {},
   "outputs": [
    {
     "data": {
      "text/html": [
       "<div>\n",
       "<style scoped>\n",
       "    .dataframe tbody tr th:only-of-type {\n",
       "        vertical-align: middle;\n",
       "    }\n",
       "\n",
       "    .dataframe tbody tr th {\n",
       "        vertical-align: top;\n",
       "    }\n",
       "\n",
       "    .dataframe thead th {\n",
       "        text-align: right;\n",
       "    }\n",
       "</style>\n",
       "<table border=\"1\" class=\"dataframe\">\n",
       "  <thead>\n",
       "    <tr style=\"text-align: right;\">\n",
       "      <th></th>\n",
       "      <th>params</th>\n",
       "      <th>mean_test_score</th>\n",
       "      <th>rank_test_score</th>\n",
       "      <th>split0_test_score</th>\n",
       "      <th>split1_test_score</th>\n",
       "      <th>split2_test_score</th>\n",
       "    </tr>\n",
       "  </thead>\n",
       "  <tbody>\n",
       "    <tr>\n",
       "      <th>0</th>\n",
       "      <td>{'max_depth': 1, 'min_samples_split': 2}</td>\n",
       "      <td>0.700000</td>\n",
       "      <td>5</td>\n",
       "      <td>0.700</td>\n",
       "      <td>0.7</td>\n",
       "      <td>0.70</td>\n",
       "    </tr>\n",
       "    <tr>\n",
       "      <th>1</th>\n",
       "      <td>{'max_depth': 1, 'min_samples_split': 3}</td>\n",
       "      <td>0.700000</td>\n",
       "      <td>5</td>\n",
       "      <td>0.700</td>\n",
       "      <td>0.7</td>\n",
       "      <td>0.70</td>\n",
       "    </tr>\n",
       "    <tr>\n",
       "      <th>2</th>\n",
       "      <td>{'max_depth': 2, 'min_samples_split': 2}</td>\n",
       "      <td>0.958333</td>\n",
       "      <td>3</td>\n",
       "      <td>0.925</td>\n",
       "      <td>1.0</td>\n",
       "      <td>0.95</td>\n",
       "    </tr>\n",
       "    <tr>\n",
       "      <th>3</th>\n",
       "      <td>{'max_depth': 2, 'min_samples_split': 3}</td>\n",
       "      <td>0.958333</td>\n",
       "      <td>3</td>\n",
       "      <td>0.925</td>\n",
       "      <td>1.0</td>\n",
       "      <td>0.95</td>\n",
       "    </tr>\n",
       "    <tr>\n",
       "      <th>4</th>\n",
       "      <td>{'max_depth': 3, 'min_samples_split': 2}</td>\n",
       "      <td>0.975000</td>\n",
       "      <td>1</td>\n",
       "      <td>0.975</td>\n",
       "      <td>1.0</td>\n",
       "      <td>0.95</td>\n",
       "    </tr>\n",
       "    <tr>\n",
       "      <th>5</th>\n",
       "      <td>{'max_depth': 3, 'min_samples_split': 3}</td>\n",
       "      <td>0.975000</td>\n",
       "      <td>1</td>\n",
       "      <td>0.975</td>\n",
       "      <td>1.0</td>\n",
       "      <td>0.95</td>\n",
       "    </tr>\n",
       "  </tbody>\n",
       "</table>\n",
       "</div>"
      ],
      "text/plain": [
       "                                     params  mean_test_score  rank_test_score  \\\n",
       "0  {'max_depth': 1, 'min_samples_split': 2}         0.700000                5   \n",
       "1  {'max_depth': 1, 'min_samples_split': 3}         0.700000                5   \n",
       "2  {'max_depth': 2, 'min_samples_split': 2}         0.958333                3   \n",
       "3  {'max_depth': 2, 'min_samples_split': 3}         0.958333                3   \n",
       "4  {'max_depth': 3, 'min_samples_split': 2}         0.975000                1   \n",
       "5  {'max_depth': 3, 'min_samples_split': 3}         0.975000                1   \n",
       "\n",
       "   split0_test_score  split1_test_score  split2_test_score  \n",
       "0              0.700                0.7               0.70  \n",
       "1              0.700                0.7               0.70  \n",
       "2              0.925                1.0               0.95  \n",
       "3              0.925                1.0               0.95  \n",
       "4              0.975                1.0               0.95  \n",
       "5              0.975                1.0               0.95  "
      ]
     },
     "execution_count": 7,
     "metadata": {},
     "output_type": "execute_result"
    }
   ],
   "source": [
    "from sklearn.tree import DecisionTreeClassifier\n",
    "from sklearn.datasets import load_iris\n",
    "from sklearn.model_selection import GridSearchCV\n",
    "import pandas as pd\n",
    "\n",
    "#  데이터 로딩 및 학습/테스트데이터 분리\n",
    "iris = load_iris()\n",
    "X_train, X_test, y_train, y_test = train_test_split(iris.data, iris.target, test_size=0.2, random_state=121)\n",
    "\n",
    "dtree = DecisionTreeClassifier()\n",
    "\n",
    "## 파라미터를 딕셔너리 형태로 설정\n",
    "parameters = {'max_depth':[1,2,3], 'min_samples_split':[2,3]}\n",
    "\n",
    "## GridSearchCV 객체 생성\n",
    "grid_dtree = GridSearchCV(dtree, param_grid=parameters, cv=3, refit=True)\n",
    "\n",
    "# 붓꽃 데이터로 param_grid의 하이퍼 파라미터를 순차적으로 학습 및 평가\n",
    "grid_dtree.fit(X_train, y_train)\n",
    "\n",
    "scores_df = pd.DataFrame(grid_dtree.cv_results_)\n",
    "scores_df[['params', 'mean_test_score', 'rank_test_score', 'split0_test_score', 'split1_test_score', 'split2_test_score']]"
   ]
  },
  {
   "cell_type": "code",
   "execution_count": 8,
   "id": "42d4e810",
   "metadata": {},
   "outputs": [
    {
     "name": "stdout",
     "output_type": "stream",
     "text": [
      "GridSearchCV 최적 파라미터:  {'max_depth': 3, 'min_samples_split': 2}\n",
      "GridSearchCV 최고 정확도:0.9750\n"
     ]
    }
   ],
   "source": [
    "#최적의 하이퍼 파라미터 값과 정확도 추출\n",
    "print('GridSearchCV 최적 파라미터: ', grid_dtree.best_params_)\n",
    "print('GridSearchCV 최고 정확도:{0:.4f}' .format(grid_dtree.best_score_))"
   ]
  },
  {
   "cell_type": "code",
   "execution_count": 9,
   "id": "b04aac62",
   "metadata": {},
   "outputs": [
    {
     "name": "stdout",
     "output_type": "stream",
     "text": [
      "GridSearchCV를 사용한 테스트 데이터 세트 정확도 : 0.9667\n"
     ]
    }
   ],
   "source": [
    "# GridSearchCV 의 refit으로 이미 학습된 estimator 반환 및 예측, 성능평가\n",
    "\n",
    "# GridSearchCV 의 refit으로 학습된 estimator 반환\n",
    "estimator = grid_dtree.best_estimator_\n",
    "\n",
    "# estimator은 이미 학습이 된 상태이므로 fit 할 필요가 없음\n",
    "# 예측 및 성능평가\n",
    "pred = estimator.predict(X_test)\n",
    "print('GridSearchCV를 사용한 테스트 데이터 세트 정확도 : {0:.4f}' .format(accuracy_score(y_test, pred)))"
   ]
  },
  {
   "cell_type": "code",
   "execution_count": null,
   "id": "bc944a14",
   "metadata": {},
   "outputs": [],
   "source": []
  }
 ],
 "metadata": {
  "kernelspec": {
   "display_name": "Python 3 (ipykernel)",
   "language": "python",
   "name": "python3"
  },
  "language_info": {
   "codemirror_mode": {
    "name": "ipython",
    "version": 3
   },
   "file_extension": ".py",
   "mimetype": "text/x-python",
   "name": "python",
   "nbconvert_exporter": "python",
   "pygments_lexer": "ipython3",
   "version": "3.9.7"
  }
 },
 "nbformat": 4,
 "nbformat_minor": 5
}
