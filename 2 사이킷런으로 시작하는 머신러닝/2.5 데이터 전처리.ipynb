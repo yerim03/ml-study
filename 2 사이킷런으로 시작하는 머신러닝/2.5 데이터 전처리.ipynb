{
 "cells": [
  {
   "cell_type": "markdown",
   "id": "f940b5ca",
   "metadata": {},
   "source": [
    "# 데이터 전처리\n",
    "+ 데이터 분석 과정에서 반드시 거쳐야 하는 과정\n",
    "+ 전처리를 어떻게 하느냐에 따라 결과에 크게 영향을 줌\n"
   ]
  },
  {
   "cell_type": "markdown",
   "id": "38c51d06",
   "metadata": {},
   "source": [
    "## 데이터 인코딩\n",
    "### 1. 레이블 인코딩\n",
    "+ **카테고리형 피처를 코드형 숫자값으로 변환하는 것**\n",
    "+ 예) 상품 데이터에 대해서 TV, 냉장고, 전자레인지, 컴퓨터 등으로 상품 구분이 되어있을 때, TV: 1, 냉장고: 2, 전자레인지: 3, 컴퓨터: 4 와 같은 숫자형으로 변환한다.\n",
    "+ 사이킷런의 **LabelEncoder 클래스**"
   ]
  },
  {
   "cell_type": "code",
   "execution_count": 3,
   "id": "1abb2513",
   "metadata": {},
   "outputs": [
    {
     "name": "stdout",
     "output_type": "stream",
     "text": [
      "인코딩 변환값:  [0 1 4 5 3 3 2 2]\n"
     ]
    }
   ],
   "source": [
    "from sklearn.preprocessing import LabelEncoder\n",
    "\n",
    "items = ['TV', '냉장고', '전자레인지', '컴퓨터', '선풍기', '선풍기', '믹서', '믹서']\n",
    "\n",
    "# LabelEncdoer 객체 생성\n",
    "encoder = LabelEncoder()\n",
    "encoder.fit(items)\n",
    "labels = encoder.transform(items)\n",
    "print('인코딩 변환값: ', labels)"
   ]
  },
  {
   "cell_type": "markdown",
   "id": "dbafa84f",
   "metadata": {},
   "source": [
    "TV: 0, 냉장고: 1, 전자레인지: 4, 컴퓨터: 5, 선풍기:3, 믹서: 2 로 변환됨"
   ]
  },
  {
   "cell_type": "code",
   "execution_count": 8,
   "id": "8fa71f37",
   "metadata": {},
   "outputs": [
    {
     "name": "stdout",
     "output_type": "stream",
     "text": [
      "인코딩 클래스 ['TV' '냉장고' '믹서' '선풍기' '전자레인지' '컴퓨터']\n"
     ]
    }
   ],
   "source": [
    "# 어떤 문자열 값이 어떤 숫자값으로 인코딩되었는지 확인\n",
    "# classes_ 속성 사용\n",
    "print('인코딩 클래스', encoder.classes_)"
   ]
  },
  {
   "cell_type": "code",
   "execution_count": 10,
   "id": "d2f3b37f",
   "metadata": {},
   "outputs": [
    {
     "name": "stdout",
     "output_type": "stream",
     "text": [
      "디코딩 원본값 ['전자레인지' '컴퓨터' '믹서' 'TV' '냉장고' '냉장고' '선풍기' '선풍기']\n"
     ]
    }
   ],
   "source": [
    "# 인코딩된 값을 다시 디코딩\n",
    "# inverse_transform() 사용\n",
    "print('디코딩 원본값', encoder.inverse_transform([4, 5, 2, 0, 1, 1, 3, 3]))"
   ]
  },
  {
   "cell_type": "markdown",
   "id": "2266ab62",
   "metadata": {},
   "source": [
    "+ 레이블 인코딩의 경우, 숫자 값으로 변환되기 때문에 ML 알고리즘에 따라 예측 성능이 떨어질 수도 있다.\n",
    "    + 변환된 숫자값이 가중치가 더 부여된 것으로 인식될 가능성이 있다.\n",
    "    + 선형회귀와 같은 ML 알고리즘에는 적용될 수 없다."
   ]
  },
  {
   "cell_type": "markdown",
   "id": "c7c3e399",
   "metadata": {},
   "source": [
    "### 2. 원-핫 인코딩\n",
    "+ 피처 값의 유형에 따라서 새로운 피처를 추가해 고유값에 해당하는 칼럼에만 1, 나머지 칼럼에는 9을 표시하는 것\n",
    "+ 예) 원본 데이터에서 고유값이 ['TV', '냉장고', '전자레인지', '컴퓨터'] 일 때, 원-핫 인코딩하면 다음과 같다.\n",
    "\n",
    "|상품분류|상품분류_TV|상품분류_냉장고|상품분류_전자레인지|상품분류_컴퓨터|\n",
    "|:-:|:-:|:-:|:-:|:-:|\n",
    "|TV| 1 | 0 | 0 | 0 | \n",
    "|냉장고| 0 | 1 | 0 | 0 |\n",
    "|전자레인지| 0 | 0 | 1| 0 |\n",
    "|컴퓨터| 0 | 0 | 0 | 1 |\n",
    "|컴퓨터| 0 | 0 | 0 | 1 |\n",
    "\n",
    "+ 사이킷런의 **OneHotEncoder 클래스**\n",
    "+ OneHotEncoder 클래스를 사용할 때, \n",
    "    + 모든 문자열 값이 숫자형으로 변환되어야 한다.\n",
    "    + 입력 값으로 2차원 데이터가 필요하다."
   ]
  },
  {
   "cell_type": "code",
   "execution_count": 13,
   "id": "64a2fead",
   "metadata": {},
   "outputs": [
    {
     "name": "stdout",
     "output_type": "stream",
     "text": [
      "원-핫 인코딩 데이터\n",
      "[[1. 0. 0. 0. 0. 0.]\n",
      " [0. 1. 0. 0. 0. 0.]\n",
      " [0. 0. 0. 0. 1. 0.]\n",
      " [0. 0. 0. 0. 0. 1.]\n",
      " [0. 0. 0. 1. 0. 0.]\n",
      " [0. 0. 0. 1. 0. 0.]\n",
      " [0. 0. 1. 0. 0. 0.]\n",
      " [0. 0. 1. 0. 0. 0.]]\n",
      "\n",
      "원-핫 인코딩 데이터 차원\n",
      "(8, 6)\n"
     ]
    }
   ],
   "source": [
    "from sklearn.preprocessing import OneHotEncoder\n",
    "from sklearn.preprocessing import LabelEncoder\n",
    "import numpy as np\n",
    "\n",
    "items = ['TV', '냉장고', '전자레인지', '컴퓨터', '선풍기', '선풍기', '믹서', '믹서']\n",
    "\n",
    "# LabelEncoder를 사용하여 숫자값으로 변환\n",
    "encoder = LabelEncoder()\n",
    "encoder.fit(items)\n",
    "labels = encoder.transform(items)\n",
    "# 2차원 데이터로 변환\n",
    "labels = labels.reshape(-1, 1)\n",
    "\n",
    "# OneHotEncoder 객체 생성\n",
    "oh_encoder = OneHotEncoder()\n",
    "oh_encoder.fit(labels)\n",
    "oh_labels = oh_encoder.transform(labels)\n",
    "\n",
    "print('원-핫 인코딩 데이터')\n",
    "print(oh_labels.toarray())\n",
    "print('\\n원-핫 인코딩 데이터 차원')\n",
    "print(oh_labels.shape)"
   ]
  },
  {
   "cell_type": "markdown",
   "id": "62a16a24",
   "metadata": {},
   "source": [
    "#### get_dummies()\n",
    "+ 판다스에서 지원하는 원-핫 인코딩 API\n",
    "+ 숫자형 값으로 변환 없이도 바로 변환이 가능하다"
   ]
  },
  {
   "cell_type": "code",
   "execution_count": 15,
   "id": "d9dfabb4",
   "metadata": {},
   "outputs": [
    {
     "data": {
      "text/html": [
       "<div>\n",
       "<style scoped>\n",
       "    .dataframe tbody tr th:only-of-type {\n",
       "        vertical-align: middle;\n",
       "    }\n",
       "\n",
       "    .dataframe tbody tr th {\n",
       "        vertical-align: top;\n",
       "    }\n",
       "\n",
       "    .dataframe thead th {\n",
       "        text-align: right;\n",
       "    }\n",
       "</style>\n",
       "<table border=\"1\" class=\"dataframe\">\n",
       "  <thead>\n",
       "    <tr style=\"text-align: right;\">\n",
       "      <th></th>\n",
       "      <th>item_TV</th>\n",
       "      <th>item_냉장고</th>\n",
       "      <th>item_믹서</th>\n",
       "      <th>item_선풍기</th>\n",
       "      <th>item_전자레인지</th>\n",
       "      <th>item_컴퓨터</th>\n",
       "    </tr>\n",
       "  </thead>\n",
       "  <tbody>\n",
       "    <tr>\n",
       "      <th>0</th>\n",
       "      <td>1</td>\n",
       "      <td>0</td>\n",
       "      <td>0</td>\n",
       "      <td>0</td>\n",
       "      <td>0</td>\n",
       "      <td>0</td>\n",
       "    </tr>\n",
       "    <tr>\n",
       "      <th>1</th>\n",
       "      <td>0</td>\n",
       "      <td>1</td>\n",
       "      <td>0</td>\n",
       "      <td>0</td>\n",
       "      <td>0</td>\n",
       "      <td>0</td>\n",
       "    </tr>\n",
       "    <tr>\n",
       "      <th>2</th>\n",
       "      <td>0</td>\n",
       "      <td>0</td>\n",
       "      <td>0</td>\n",
       "      <td>0</td>\n",
       "      <td>1</td>\n",
       "      <td>0</td>\n",
       "    </tr>\n",
       "    <tr>\n",
       "      <th>3</th>\n",
       "      <td>0</td>\n",
       "      <td>0</td>\n",
       "      <td>0</td>\n",
       "      <td>0</td>\n",
       "      <td>0</td>\n",
       "      <td>1</td>\n",
       "    </tr>\n",
       "    <tr>\n",
       "      <th>4</th>\n",
       "      <td>0</td>\n",
       "      <td>0</td>\n",
       "      <td>0</td>\n",
       "      <td>1</td>\n",
       "      <td>0</td>\n",
       "      <td>0</td>\n",
       "    </tr>\n",
       "    <tr>\n",
       "      <th>5</th>\n",
       "      <td>0</td>\n",
       "      <td>0</td>\n",
       "      <td>0</td>\n",
       "      <td>1</td>\n",
       "      <td>0</td>\n",
       "      <td>0</td>\n",
       "    </tr>\n",
       "    <tr>\n",
       "      <th>6</th>\n",
       "      <td>0</td>\n",
       "      <td>0</td>\n",
       "      <td>1</td>\n",
       "      <td>0</td>\n",
       "      <td>0</td>\n",
       "      <td>0</td>\n",
       "    </tr>\n",
       "    <tr>\n",
       "      <th>7</th>\n",
       "      <td>0</td>\n",
       "      <td>0</td>\n",
       "      <td>1</td>\n",
       "      <td>0</td>\n",
       "      <td>0</td>\n",
       "      <td>0</td>\n",
       "    </tr>\n",
       "  </tbody>\n",
       "</table>\n",
       "</div>"
      ],
      "text/plain": [
       "   item_TV  item_냉장고  item_믹서  item_선풍기  item_전자레인지  item_컴퓨터\n",
       "0        1         0        0         0           0         0\n",
       "1        0         1        0         0           0         0\n",
       "2        0         0        0         0           1         0\n",
       "3        0         0        0         0           0         1\n",
       "4        0         0        0         1           0         0\n",
       "5        0         0        0         1           0         0\n",
       "6        0         0        1         0           0         0\n",
       "7        0         0        1         0           0         0"
      ]
     },
     "execution_count": 15,
     "metadata": {},
     "output_type": "execute_result"
    }
   ],
   "source": [
    "import pandas as pd\n",
    "\n",
    "df = pd.DataFrame({'item': ['TV', '냉장고', '전자레인지', '컴퓨터', '선풍기', '선풍기', '믹서', '믹서']})\n",
    "pd.get_dummies(df)"
   ]
  },
  {
   "cell_type": "markdown",
   "id": "519138aa",
   "metadata": {},
   "source": [
    "## 피처 스케일링과 정규화\n",
    "+ **피처 스케일링** : 서로 다른 변수의 값 범위를 일정한 수준으로 맞추는 작업\n",
    "    + 표준화(Standardization) : 데이터의 피처 각각이 평균=0, 분산=1인 가우시안 정규 분포를가진 값으로 변환하는 것\n",
    "    + 정규화(Normalization) : 서로 다른 피처의 크기를 통일하기 위해 크기를 변환해주는 것\n",
    "+ 사이킷런의 대표적인 피처 스케일링 : **StandardScaler, MinMaxScaler 클래스**"
   ]
  },
  {
   "cell_type": "markdown",
   "id": "94a2643a",
   "metadata": {},
   "source": [
    "### StandardScaler\n",
    "+ 표준화를 쉽게 지원하기 위한 클래스\n",
    "+ **개별 피처를 평균=0, 분산=1 인 값으로 변환**\n",
    "+ 서포트 벡터 머신, 선형 회귀, 로지스틱 회귀 등에서 표준화를 적용하는 것이 중요하다"
   ]
  },
  {
   "cell_type": "code",
   "execution_count": 16,
   "id": "0b3d6339",
   "metadata": {},
   "outputs": [
    {
     "name": "stdout",
     "output_type": "stream",
     "text": [
      "feature 들의 평균 값\n",
      "sepal length (cm)    5.843333\n",
      "sepal width (cm)     3.057333\n",
      "petal length (cm)    3.758000\n",
      "petal width (cm)     1.199333\n",
      "dtype: float64\n",
      "\n",
      "feature 들의 분산 값\n",
      "sepal length (cm)    0.685694\n",
      "sepal width (cm)     0.189979\n",
      "petal length (cm)    3.116278\n",
      "petal width (cm)     0.581006\n",
      "dtype: float64\n"
     ]
    }
   ],
   "source": [
    "from sklearn.datasets import load_iris\n",
    "import pandas as pd\n",
    "\n",
    "# 붓꽃 데이터 셋을 로딩하고 DataFrame으로 변환\n",
    "iris = load_iris()\n",
    "iris_data = iris.data\n",
    "iris_df = pd.DataFrame(data=iris_data, columns=iris.feature_names)\n",
    "\n",
    "\n",
    "# StandardScaler 전 평균, 분산 값\n",
    "print('feature 들의 평균 값')\n",
    "print(iris_df.mean())\n",
    "print('\\nfeature 들의 분산 값')\n",
    "print(iris_df.var())"
   ]
  },
  {
   "cell_type": "code",
   "execution_count": 17,
   "id": "11357f87",
   "metadata": {},
   "outputs": [
    {
     "name": "stdout",
     "output_type": "stream",
     "text": [
      "feature 들의 평균 값\n",
      "sepal length (cm)   -1.690315e-15\n",
      "sepal width (cm)    -1.842970e-15\n",
      "petal length (cm)   -1.698641e-15\n",
      "petal width (cm)    -1.409243e-15\n",
      "dtype: float64\n",
      "\n",
      "feature 들의 분산 값\n",
      "sepal length (cm)    1.006711\n",
      "sepal width (cm)     1.006711\n",
      "petal length (cm)    1.006711\n",
      "petal width (cm)     1.006711\n",
      "dtype: float64\n"
     ]
    }
   ],
   "source": [
    "from sklearn.preprocessing import StandardScaler\n",
    "\n",
    "# StandardScaler객체 생성\n",
    "scaler = StandardScaler()\n",
    "scaler.fit(iris_df)\n",
    "iris_scaled = scaler.transform(iris_df)\n",
    "\n",
    "# transform() 시에 nadarray 로 반환된 데이터 세트를 DataFrame으로 변환\n",
    "iris_df_scaled = pd.DataFrame(data=iris_scaled, columns=iris.feature_names)\n",
    "\n",
    "print('feature 들의 평균 값')\n",
    "print(iris_df_scaled.mean())\n",
    "print('\\nfeature 들의 분산 값')\n",
    "print(iris_df_scaled.var())"
   ]
  },
  {
   "cell_type": "markdown",
   "id": "8cba4e1b",
   "metadata": {},
   "source": [
    "모든 칼럼 값이 평균이 0에 가까운 값으로, 분산은 1에 가까운 값으로 변환됨"
   ]
  },
  {
   "cell_type": "markdown",
   "id": "042921fd",
   "metadata": {},
   "source": [
    "### MinMaxScaler\n",
    "+ **데이터 값을 0과 1 사이의 범위 값으로 변환**\n",
    "+ 데이터 분포가 가우시안 분포가 아닐 경우, MinMaxScaler 를 적용해볼 수 있다."
   ]
  },
  {
   "cell_type": "code",
   "execution_count": 18,
   "id": "8388a130",
   "metadata": {},
   "outputs": [
    {
     "name": "stdout",
     "output_type": "stream",
     "text": [
      "feature들의 최소 값\n",
      "sepal length (cm)    0.0\n",
      "sepal width (cm)     0.0\n",
      "petal length (cm)    0.0\n",
      "petal width (cm)     0.0\n",
      "dtype: float64\n",
      "\n",
      "feature들의 최대 값\n",
      "sepal length (cm)    1.0\n",
      "sepal width (cm)     1.0\n",
      "petal length (cm)    1.0\n",
      "petal width (cm)     1.0\n",
      "dtype: float64\n"
     ]
    }
   ],
   "source": [
    "from sklearn.preprocessing import MinMaxScaler\n",
    "\n",
    "# MinMaxScaler객체 생성\n",
    "scaler = MinMaxScaler()\n",
    "scaler.fit(iris_df)\n",
    "iris_scaled = scaler.transform(iris_df)\n",
    "\n",
    "# transform() 시에 nadarray 로 반환된 데이터 세트를 DataFrame으로 변환\n",
    "iris_df_scaled = pd.DataFrame(data=iris_scaled, columns=iris.feature_names)\n",
    "\n",
    "print('feature들의 최소 값')\n",
    "print(iris_df_scaled.min())\n",
    "print('\\nfeature들의 최대 값')\n",
    "print(iris_df_scaled.max())"
   ]
  },
  {
   "cell_type": "markdown",
   "id": "420968ea",
   "metadata": {},
   "source": [
    "모든 피처에 0~1 사이의 값으로 변환되는 스케일링이 적용됨"
   ]
  },
  {
   "cell_type": "markdown",
   "id": "3f4f5240",
   "metadata": {},
   "source": [
    "## 학습 데이터와 테스트 데이터의 스케일링 변환 시 유의점\n",
    "+ Scaler 객체를 이용하여 데이터 스케일링 변환 시 **fit(), transform(), fit_transform()** 을 사용함\n",
    "\n",
    "#### 학습 데이터 세트, 테스트 데이터 세트에 fit(), transform() 적용 시 주의점\n",
    "--> 학습 데이터로 fit()이 적용된 스케일링 기준 정보를 그대로 테스트 데이터에 적용해야 한다.  \n",
    "+ 테스트 데이터로 새로운 스케일링 기준 정보를 만들면 학습, 테스트 데이터의 스케일링 기준정보가 달라져서 올바른 예측 결과를 도출하기 어렵다"
   ]
  },
  {
   "cell_type": "markdown",
   "id": "7d9825cc",
   "metadata": {},
   "source": [
    "#### 테스트 데이터에 fit()적용 시 발생하는 문제 확인"
   ]
  },
  {
   "cell_type": "code",
   "execution_count": 19,
   "id": "5ceac62d",
   "metadata": {},
   "outputs": [],
   "source": [
    "from sklearn.preprocessing import MinMaxScaler\n",
    "import numpy as np\n",
    "\n",
    "# 학습 데이터(train_array) - 0 부터 10까지 값을 가지는 데이터 세트로 생성\n",
    "# 테스트 데이터(test_array) - 0 부터 5까지 값을 가지는 데이터 세트로 생성\n",
    "# Scaler클래스에 적용하기 위해서 reshape(-1, 1)로 2차원으로 변경\n",
    "train_array = np.arange(0, 11).reshape(-1, 1)\n",
    "test_array =  np.arange(0, 6).reshape(-1, 1)"
   ]
  },
  {
   "cell_type": "code",
   "execution_count": 20,
   "id": "8f3f7e53",
   "metadata": {},
   "outputs": [
    {
     "name": "stdout",
     "output_type": "stream",
     "text": [
      "원본 train_array 데이터: [ 0  1  2  3  4  5  6  7  8  9 10]\n",
      "Scale된 train_array 데이터: [0.  0.1 0.2 0.3 0.4 0.5 0.6 0.7 0.8 0.9 1. ]\n"
     ]
    }
   ],
   "source": [
    "# MinMaxScaler객체 생성\n",
    "scaler = MinMaxScaler()\n",
    "\n",
    "# fit() 적용\n",
    "# train_array 데이터의 최소값이 0, 최대값이 10으로 설정.  \n",
    "scaler.fit(train_array)\n",
    "# 1/10 scale로 train_array 데이터 변환함. 원본 10 -> 1로 변환됨.\n",
    "train_scaled = scaler.transform(train_array)\n",
    " \n",
    "print('원본 train_array 데이터:', np.round(train_array.reshape(-1), 2))\n",
    "print('Scale된 train_array 데이터:', np.round(train_scaled.reshape(-1), 2))"
   ]
  },
  {
   "cell_type": "markdown",
   "id": "e7ad065e",
   "metadata": {},
   "source": [
    "학습 원본데이터의 경우 1/10로 스케일링 되어서 1은 0.1로, 2는 0.2, 5는 0.5, 10은 1로 변환된다"
   ]
  },
  {
   "cell_type": "code",
   "execution_count": 21,
   "id": "43b2140c",
   "metadata": {},
   "outputs": [
    {
     "name": "stdout",
     "output_type": "stream",
     "text": [
      "원본 test_array 데이터: [0 1 2 3 4 5]\n",
      "Scale된 test_array 데이터: [0.  0.2 0.4 0.6 0.8 1. ]\n"
     ]
    }
   ],
   "source": [
    "# 앞에서 생성한 MinMaxScaler에 test_array를 fit() 적용\n",
    "# 원본 데이터의 최소값이 0, 최대값이 5으로 설정됨 \n",
    "scaler.fit(test_array)\n",
    "\n",
    "# 1/5 scale로 test_array 데이터 변환함. 원본 5->1로 변환.  \n",
    "test_scaled = scaler.transform(test_array)\n",
    "\n",
    "# train_array 변환 출력\n",
    "print('원본 test_array 데이터:', np.round(test_array.reshape(-1), 2))\n",
    "print('Scale된 test_array 데이터:', np.round(test_scaled.reshape(-1), 2))"
   ]
  },
  {
   "cell_type": "markdown",
   "id": "882fc43c",
   "metadata": {},
   "source": [
    "테스트 원본데이터의 경우 1/5로 스케일링 되어서 1은 0.2로, 5는 1로 변환된다  \n",
    "**--> 학습 데이터와 테스트 데이터의 스케일링이 맞지 않다**"
   ]
  },
  {
   "cell_type": "markdown",
   "id": "c7eef86a",
   "metadata": {},
   "source": [
    "#### 테스트 데이터에 학습데이터로 fit()을 수행한 객체의 transform() 적용"
   ]
  },
  {
   "cell_type": "code",
   "execution_count": 23,
   "id": "9c001d12",
   "metadata": {},
   "outputs": [
    {
     "name": "stdout",
     "output_type": "stream",
     "text": [
      "원본 train_array 데이터: [ 0  1  2  3  4  5  6  7  8  9 10]\n",
      "Scale된 train_array 데이터: [0.  0.1 0.2 0.3 0.4 0.5 0.6 0.7 0.8 0.9 1. ]\n",
      "\n",
      "원본 test_array 데이터: [0 1 2 3 4 5]\n",
      "Scale된 test_array 데이터: [0.  0.1 0.2 0.3 0.4 0.5]\n"
     ]
    }
   ],
   "source": [
    "scaler = MinMaxScaler()\n",
    "scaler.fit(train_array)\n",
    "train_scaled = scaler.transform(train_array)\n",
    "print('원본 train_array 데이터:', np.round(train_array.reshape(-1), 2))\n",
    "print('Scale된 train_array 데이터:', np.round(train_scaled.reshape(-1), 2))\n",
    "\n",
    "# test_array에 Scale 변환을 할 때는 반드시 fit()을 호출하지 않고 transform() 만으로 변환해야 함. \n",
    "test_scaled = scaler.transform(test_array)\n",
    "\n",
    "print('\\n원본 test_array 데이터:', np.round(test_array.reshape(-1), 2))\n",
    "print('Scale된 test_array 데이터:', np.round(test_scaled.reshape(-1), 2))"
   ]
  },
  {
   "cell_type": "markdown",
   "id": "53e51a32",
   "metadata": {},
   "source": [
    "학습 데이터, 테스트 데이터 모두 1/10 수준으로 스케일링되었다."
   ]
  },
  {
   "cell_type": "markdown",
   "id": "3d7c9041",
   "metadata": {},
   "source": [
    "**fit_transform() 적용 시에도 테스트 데이터에서는 절대 사용하면 안됨**  \n",
    "따라서 학습데이터, 테스트 데이터 세트로 분리하기 전에 먼저 **전체 데이터 세트에 fit_transform()으로 스케일링 적용**한 후에 분리"
   ]
  },
  {
   "cell_type": "code",
   "execution_count": null,
   "id": "ea26a82f",
   "metadata": {},
   "outputs": [],
   "source": []
  }
 ],
 "metadata": {
  "kernelspec": {
   "display_name": "Python 3 (ipykernel)",
   "language": "python",
   "name": "python3"
  },
  "language_info": {
   "codemirror_mode": {
    "name": "ipython",
    "version": 3
   },
   "file_extension": ".py",
   "mimetype": "text/x-python",
   "name": "python",
   "nbconvert_exporter": "python",
   "pygments_lexer": "ipython3",
   "version": "3.9.7"
  }
 },
 "nbformat": 4,
 "nbformat_minor": 5
}
